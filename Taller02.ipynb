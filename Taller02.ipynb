{
 "cells": [
  {
   "cell_type": "markdown",
   "id": "57d8fc85",
   "metadata": {},
   "source": []
  },
  {
   "cell_type": "markdown",
   "id": "5fa5a997",
   "metadata": {},
   "source": []
  },
  {
   "cell_type": "code",
   "execution_count": null,
   "id": "eb04667d",
   "metadata": {},
   "outputs": [],
   "source": []
  },
  {
   "cell_type": "code",
   "execution_count": null,
   "id": "5739a61b",
   "metadata": {},
   "outputs": [],
   "source": []
  }
 ],
 "metadata": {
  "language_info": {
   "name": "python"
  }
 },
 "nbformat": 4,
 "nbformat_minor": 5
}
