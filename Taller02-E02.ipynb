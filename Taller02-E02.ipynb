{
 "cells": [
  {
   "cell_type": "markdown",
   "id": "0d7f2ba2",
   "metadata": {},
   "source": [
    "# **TALLER 02 CALCULO DE RAICES**\n",
    "## **Fecha:** 06/05/2025\n",
    "## **Nombres:** \n",
    "- Christopher Criollo\n",
    "- Joseph Jimenez"
   ]
  },
  {
   "cell_type": "markdown",
   "id": "91279f97",
   "metadata": {},
   "source": [
    "1. Encuentre todas las raíces del polinomio $x^4 + 540x^3 + 109124x^2 + 9781632x + 328188672 = 0$.\n",
    "\n",
    "2. Encuentre todos los puntos en los que la curva $\\left(\\frac{y}{2}\\right)^2 = \\left(\\frac{x+3}{2}\\right)^2 - 1$ intersecta el eje $y = -2$.\n",
    "\n",
    "3. Dada la función $f(x) = \\frac{\\sin(x)}{x}$. ¿A partir de qué valor $x_T$ se cumple que $f(x) < 0.015,\\ \\forall x \\geq x_T$?\n"
   ]
  },
  {
   "cell_type": "markdown",
   "id": "d0d42d02",
   "metadata": {},
   "source": []
  }
 ],
 "metadata": {
  "kernelspec": {
   "display_name": "Python 3",
   "language": "python",
   "name": "python3"
  },
  "language_info": {
   "codemirror_mode": {
    "name": "ipython",
    "version": 3
   },
   "file_extension": ".py",
   "mimetype": "text/x-python",
   "name": "python",
   "nbconvert_exporter": "python",
   "pygments_lexer": "ipython3",
   "version": "3.13.2"
  }
 },
 "nbformat": 4,
 "nbformat_minor": 5
}
