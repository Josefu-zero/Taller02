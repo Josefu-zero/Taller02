{
 "cells": [
  {
   "cell_type": "markdown",
   "id": "0d7f2ba2",
   "metadata": {},
   "source": [
    "# **TALLER 02 CALCULO DE RAICES**\n",
    "## **Fecha:** 06/05/2025\n",
    "## **Nombres:** \n",
    "- Christopher Criollo\n",
    "- Joseph Jimenez"
   ]
  },
  {
   "cell_type": "markdown",
   "id": "b5941667",
   "metadata": {},
   "source": [
    "# **EJERCICIO 2** \n",
    "\n",
    "Encuentre todos los puntos en los que la curva $\\left(\\frac{y}{2}\\right)^2 = \\left(\\frac{x+3}{2}\\right)^2 - 1$ intersecta el eje $y = -2$."
   ]
  },
  {
   "cell_type": "code",
   "execution_count": 45,
   "id": "8096365e",
   "metadata": {},
   "outputs": [],
   "source": [
    "import numpy as np\n",
    "import matplotlib.pyplot as plt\n",
    "from matplotlib.animation import FuncAnimation\n",
    "\n",
    "def f(x):\n",
    "    return 2 - ((x + 3)/2)**2\n",
    "\n",
    "# Metodo de la secante para encontrar la raíz\n",
    "# Encontrar los puntos de intersección con y = -2\n",
    "def find_intersections(f, y_val, x_range, tol=1e-6):\n",
    "    intersections = []\n",
    "    for i in range(len(x_range) - 1):\n",
    "        x0, x1 = x_range[i], x_range[i + 1]\n",
    "        y0, y1 = f(x0), f(x1)\n",
    "        if (y0 - y_val) * (y1 - y_val) < 0:  # Cambio de signo\n",
    "            root_steps = MetodoSecante(lambda x: f(x) - y_val, x0, x1, tol=tol)\n",
    "            intersections.append(root_steps[-1][0])  # Última aproximación\n",
    "    return intersections\n",
    "\n",
    "# Rango de valores de x para buscar intersecciones\n",
    "x_range = np.linspace(-7, 2, 400)\n",
    "intersections = find_intersections(f, y, x_range)\n",
    "# Filtrar los puntos de intersección donde y = -2\n",
    "roots_x = [x_int for x_int in intersections if abs(f(x_int) - y) < 1e-6]\n",
    "roots_y = [y] * len(roots_x)\n",
    "\n",
    "# Graficar los puntos de corte\n",
    "ax.scatter(roots_x, roots_y, color='green', label='Puntos de corte', zorder=5)\n",
    "\n",
    "# Combinar pasos de ambos extremos\n",
    "all_steps = steps_1 + steps_2\n",
    "roots_x = [step[0] for step in all_steps if abs(step[1]) < 1e-6]\n",
    "roots_y = [0] * len(roots_x)  \n",
    "ax.scatter(roots_x, roots_y, color='green', label='Puntos de corte', zorder=5)\n",
    "\n",
    "# Combinar pasos de ambos extremos\n",
    "all_steps = steps_1 + steps_2\n",
    "\n",
    "# Iniciaalizar animación\n",
    "def init(): \n",
    "    point.set_data([], [])\n",
    "    return point,\n",
    "\n",
    "# Actualizar animación\n",
    "def actuAni(frame):\n",
    "    x, y = all_steps[frame]\n",
    "    point.set_data([x], [y])\n",
    "    return point,\n",
    "\n",
    "ani = FuncAnimation(fig, actuAni, frames=len(all_steps),\n",
    "                    init_func=init, blit=True, interval=800, repeat=False)\n",
    "\n",
    "plt.show()\n",
    "# Guardar la animación\n",
    "ani.save('InterseccionCurvaEjercicio02.gif', writer='pillow', fps=2)"
   ]
  },
  {
   "cell_type": "markdown",
   "id": "d0d42d02",
   "metadata": {},
   "source": []
  }
 ],
 "metadata": {
  "kernelspec": {
   "display_name": "Python 3",
   "language": "python",
   "name": "python3"
  },
  "language_info": {
   "codemirror_mode": {
    "name": "ipython",
    "version": 3
   },
   "file_extension": ".py",
   "mimetype": "text/x-python",
   "name": "python",
   "nbconvert_exporter": "python",
   "pygments_lexer": "ipython3",
   "version": "3.13.2"
  }
 },
 "nbformat": 4,
 "nbformat_minor": 5
}
