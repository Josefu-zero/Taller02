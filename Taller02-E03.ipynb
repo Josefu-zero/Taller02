{
 "cells": [
  {
   "cell_type": "markdown",
   "id": "cf8b6722",
   "metadata": {},
   "source": [
    "# **TALLER 02 CALCULO DE RAICES**\n",
    "## **Fecha:** 06/05/2025\n",
    "## **Nombres:** \n",
    "- Christopher Criollo\n",
    "- Joseph Jimenez"
   ]
  },
  {
   "cell_type": "markdown",
   "id": "36bad748",
   "metadata": {},
   "source": [
    "1. Encuentre todas las raíces del polinomio $x^4 + 540x^3 + 109124x^2 + 9781632x + 328188672 = 0$.\n",
    "\n",
    "2. Encuentre todos los puntos en los que la curva $\\left(\\frac{y}{2}\\right)^2 = \\left(\\frac{x+3}{2}\\right)^2 - 1$ intersecta el eje $y = -2$.\n",
    "\n",
    "3. Dada la función $f(x) = \\frac{\\sin(x)}{x}$. ¿A partir de qué valor $x_T$ se cumple que $f(x) < 0.015,\\ \\forall x \\geq x_T$?"
   ]
  },
  {
   "cell_type": "markdown",
   "id": "d3a8cf8d",
   "metadata": {},
   "source": [
    "# **EJERCICIO 2** \n",
    "\n",
    "Dada la función $f(x) = \\frac{\\sin(x)}{x}$. ¿A partir de qué valor $x_T$ se cumple que $f(x) < 0.015,\\ \\forall x \\geq x_T$?"
   ]
  },
  {
   "cell_type": "code",
   "execution_count": null,
   "id": "c6f78ca6",
   "metadata": {},
   "outputs": [],
   "source": []
  }
 ],
 "metadata": {
  "language_info": {
   "name": "python"
  }
 },
 "nbformat": 4,
 "nbformat_minor": 5
}
